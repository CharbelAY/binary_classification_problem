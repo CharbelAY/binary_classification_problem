{
 "cells": [
  {
   "cell_type": "markdown",
   "metadata": {},
   "source": [
    "***\n",
    "You need to press esc and m to transform a cell into a markdown cell\n",
    "# Amazing\n",
    "\n",
    "## A little bit less amazing\n",
    "\n",
    "### Somewhat Amazing\n",
    "\n",
    "**Bold** _Italic_\n",
    "\n",
    "- list?\n",
    "- list reaally?\n",
    "\n",
    "<img src=\"https://hatrabbits.com/wp-content/uploads/2017/01/random.jpg\" alt=\"Alt text that describes the graphic\" title=\"Title text\" />\n",
    "\n",
    "***\n"
   ]
  },
  {
   "cell_type": "code",
   "execution_count": null,
   "metadata": {},
   "outputs": [],
   "source": []
  }
 ],
 "metadata": {
  "kernelspec": {
   "display_name": "Python 3",
   "language": "python",
   "name": "python3"
  },
  "language_info": {
   "codemirror_mode": {
    "name": "ipython",
    "version": 3
   },
   "file_extension": ".py",
   "mimetype": "text/x-python",
   "name": "python",
   "nbconvert_exporter": "python",
   "pygments_lexer": "ipython3",
   "version": "3.8.5"
  }
 },
 "nbformat": 4,
 "nbformat_minor": 4
}
